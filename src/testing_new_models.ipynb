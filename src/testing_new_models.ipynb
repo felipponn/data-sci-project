{
 "cells": [
  {
   "cell_type": "markdown",
   "id": "63f4c5ac",
   "metadata": {},
   "source": [
    "# Teste dos modelos FAISS + Tevatron"
   ]
  },
  {
   "cell_type": "code",
   "execution_count": null,
   "id": "f7947fc0",
   "metadata": {},
   "outputs": [],
   "source": [
    "\n",
    "from faiss_model import faiss_tevatron_search\n",
    "from tevatron_model import tevatron_search\n"
   ]
  },
  {
   "cell_type": "code",
   "execution_count": null,
   "id": "269c4a37",
   "metadata": {},
   "outputs": [],
   "source": [
    "\n",
    "# Exemplo de dicionários de documentos e queries\n",
    "docs = {\n",
    "    \"d1\": \"Deep learning allows computational models that are composed of multiple processing layers to learn representations of data with multiple levels of abstraction.\",\n",
    "    \"d2\": \"Convolutional networks were inspired by biological processes and are used in image recognition.\",\n",
    "    \"d3\": \"Transformers have revolutionized NLP by enabling models to learn from large corpora using self-attention mechanisms.\"\n",
    "}\n",
    "\n",
    "queries = {\n",
    "    \"q1\": \"What are convolutional networks used for?\",\n",
    "    \"q2\": \"How does deep learning work?\",\n",
    "    \"q3\": \"Describe the impact of transformers in NLP.\"\n",
    "}\n",
    "\n",
    "# Testa FAISS + Tevatron\n",
    "faiss_results, faiss_time = faiss_tevatron_search(docs, queries, K=2)\n",
    "print(\"FAISS + Tevatron Results:\")\n",
    "for qid, res in faiss_results.items():\n",
    "    print(f\"{qid}: {res}\")\n",
    "print(f\"Execution time: {faiss_time:.2f}s\")\n",
    "\n",
    "# Testa somente Tevatron\n",
    "tevatron_results, _ = tevatron_search(docs, queries, K=2)\n",
    "print(\"\\nTevatron Only Results:\")\n",
    "for qid, res in tevatron_results.items():\n",
    "    print(f\"{qid}: {res}\")\n"
   ]
  }
 ],
 "metadata": {},
 "nbformat": 4,
 "nbformat_minor": 5
}
