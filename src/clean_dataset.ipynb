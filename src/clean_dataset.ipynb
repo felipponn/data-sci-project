{
 "cells": [
  {
   "cell_type": "code",
   "execution_count": 3,
   "metadata": {},
   "outputs": [],
   "source": [
    "# base\n",
    "import numpy as np\n",
    "import pandas as pd\n",
    "import pickle\n",
    "\n",
    "# utils\n",
    "from utils.proprocess_text import clean_texts"
   ]
  },
  {
   "cell_type": "code",
   "execution_count": 4,
   "metadata": {},
   "outputs": [],
   "source": [
    "PATH_OUT = \"../data_clean\""
   ]
  },
  {
   "cell_type": "code",
   "execution_count": 5,
   "metadata": {},
   "outputs": [],
   "source": [
    "lista_pkl = [\n",
    "    \"../data/subset_msmarco_train_0.01_9.pkl\",\n",
    "    \"../data/subset_msmarco_train_0.01_99.pkl\",\n",
    "    \"../data/subset_msmarco_train_0.01_999.pkl\",\n",
    "    \"../data/subset_msmarco_train_0.05_9.pkl\",\n",
    "    \"../data/subset_msmarco_train_0.05_99.pkl\",\n",
    "    \"../data/subset_msmarco_train_0.05_999.pkl\",\n",
    "    \"../data/subset_msmarco_train_1_9.pkl\",\n",
    "    \"../data/subset_msmarco_train_1_99.pkl\",\n",
    "    \"../data/subset_msmarco_train_1_999.pkl\"\n",
    "]"
   ]
  },
  {
   "cell_type": "code",
   "execution_count": null,
   "metadata": {},
   "outputs": [
    {
     "name": "stdout",
     "output_type": "stream",
     "text": [
      "../data/subset_msmarco_train_0.01_9.pkl\n",
      "../data/subset_msmarco_train_0.01_99.pkl\n",
      "../data/subset_msmarco_train_0.01_999.pkl\n",
      "../data/subset_msmarco_train_0.05_9.pkl\n",
      "../data/subset_msmarco_train_0.05_99.pkl\n",
      "../data/subset_msmarco_train_0.05_999.pkl\n"
     ]
    }
   ],
   "source": [
    "for path in lista_pkl:\n",
    "    print(path)\n",
    "    with open(path, 'rb') as f:\n",
    "        data = pickle.load(f)\n",
    "\n",
    "    # Convertendo o dicionário de queries para um dicionário de texto\n",
    "    queries_dict = {qid: query.text for qid, query in data['queries'].items()}\n",
    "\n",
    "    # Convertendo o dicionário de documentos para um dicionário de texto\n",
    "    docs_dict = {did: doc.text for did, doc in data['docs'].items()}\n",
    "\n",
    "    # limpando os textos\n",
    "    queries_dict_clean, docs_dict_clean = clean_texts(queries_dict, docs_dict)\n",
    "\n",
    "    # Criando um dicionário para armazenar as relações query-documentos\n",
    "    qrels_dict = {}\n",
    "\n",
    "    # Iterando sobre os qrels para construir o dicionário\n",
    "    for qrel in data['qrels']:\n",
    "        query_id = qrel.query_id\n",
    "        doc_id = qrel.doc_id\n",
    "        \n",
    "        # Se a query já existe no dicionário, adiciona o doc à lista\n",
    "        if query_id in qrels_dict:\n",
    "            qrels_dict[query_id].append(doc_id)\n",
    "        # Se não existe, cria uma nova lista com o doc\n",
    "        else:\n",
    "            qrels_dict[query_id] = [doc_id]\n",
    "\n",
    "    # salva arquivo pickle\n",
    "    with open(f\"{PATH_OUT}/{path.split('/')[-1]}\", 'wb') as f:\n",
    "        pickle.dump({'queries_dict': queries_dict_clean, 'docs_dict': docs_dict_clean, 'qrels_dict': qrels_dict}, f)"
   ]
  },
  {
   "cell_type": "code",
   "execution_count": null,
   "metadata": {},
   "outputs": [],
   "source": []
  }
 ],
 "metadata": {
  "kernelspec": {
   "display_name": ".venv",
   "language": "python",
   "name": "python3"
  },
  "language_info": {
   "codemirror_mode": {
    "name": "ipython",
    "version": 3
   },
   "file_extension": ".py",
   "mimetype": "text/x-python",
   "name": "python",
   "nbconvert_exporter": "python",
   "pygments_lexer": "ipython3",
   "version": "3.13.1"
  }
 },
 "nbformat": 4,
 "nbformat_minor": 2
}
