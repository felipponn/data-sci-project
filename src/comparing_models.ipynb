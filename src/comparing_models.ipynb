{
 "cells": [
  {
   "cell_type": "code",
   "execution_count": null,
   "metadata": {},
   "outputs": [],
   "source": [
    "# base\n",
    "import numpy as np\n",
    "import matplotlib.pyplot as plt\n",
    "import random\n",
    "\n",
    "# database\n",
    "import pickle\n",
    "\n",
    "# models\n",
    "from models.baselines_models import random_search, tfidf_search, bm25_search\n",
    "\n",
    "from models.bert_model import bert_search\n",
    "from models.multi_staging_model import primary_stage, secondary_stage\n",
    "from utils.save_embeddings import save_embeddings, save_embeddings_choose\n",
    "\n",
    "# metrics\n",
    "from metrics.metrics_functions import mean_precision_at_k, mean_average_precision_at_k, mean_recall_at_k, mean_reciprocal_rank, mean_ndcg_at_k"
   ]
  },
  {
   "cell_type": "markdown",
   "metadata": {},
   "source": [
    "Base de dados"
   ]
  },
  {
   "cell_type": "code",
   "execution_count": null,
   "metadata": {},
   "outputs": [],
   "source": [
    "PATH = 'subset_msmarco_train_0.01_99.pkl'\n",
    "PATH_DATA = '../data/' + PATH\n",
    "PATH_DATA_CLEAN = '../data/data_clean/' + PATH"
   ]
  },
  {
   "cell_type": "code",
   "execution_count": null,
   "metadata": {},
   "outputs": [],
   "source": [
    "with open(PATH_DATA, 'rb') as f:\n",
    "    data = pickle.load(f)"
   ]
  },
  {
   "cell_type": "markdown",
   "metadata": {},
   "source": [
    "Queries:"
   ]
  },
  {
   "cell_type": "code",
   "execution_count": null,
   "metadata": {},
   "outputs": [],
   "source": [
    "# Convertendo o dicionário de queries para formato id:text\n",
    "queries_dict = {qid: query.text for qid, query in data['queries'].items()}\n",
    "print(queries_dict)\n",
    "print(f'Quantidade de queries: {len(queries_dict)}')"
   ]
  },
  {
   "cell_type": "markdown",
   "metadata": {},
   "source": [
    "Docs:"
   ]
  },
  {
   "cell_type": "code",
   "execution_count": null,
   "metadata": {},
   "outputs": [],
   "source": [
    "# Convertendo o dicionário de docs para formato id:text\n",
    "docs_dict = {did: doc.text for did, doc in data['docs'].items()}\n",
    "print(docs_dict)\n",
    "print(f'Quantidade de docs: {len(docs_dict)}')"
   ]
  },
  {
   "cell_type": "markdown",
   "metadata": {},
   "source": [
    "Qrels:"
   ]
  },
  {
   "cell_type": "code",
   "execution_count": null,
   "metadata": {},
   "outputs": [],
   "source": [
    "# Criando um dicionário para armazenar as relações query-documentos\n",
    "qrels_dict = {}\n",
    "\n",
    "# Iterando sobre os qrels para construir o dicionário\n",
    "for qrel in data['qrels']:\n",
    "    query_id = qrel.query_id\n",
    "    doc_id = qrel.doc_id\n",
    "    \n",
    "    # Se a query já existe no dicionário, adiciona o doc à lista\n",
    "    if query_id in qrels_dict:\n",
    "        qrels_dict[query_id].append(doc_id)\n",
    "    # Se não existe, cria uma nova lista com o doc\n",
    "    else:\n",
    "        qrels_dict[query_id] = [doc_id]\n",
    "\n",
    "print(qrels_dict)\n",
    "print(f'Quantidade de qrels: {len(qrels_dict)}')"
   ]
  },
  {
   "cell_type": "markdown",
   "metadata": {},
   "source": [
    "Limpeza de dados"
   ]
  },
  {
   "cell_type": "code",
   "execution_count": null,
   "metadata": {},
   "outputs": [],
   "source": [
    "# Se você nunca baixou esses recursos NLTK, descomente as linhas abaixo:\n",
    "# nltk.download('stopwords')\n",
    "# nltk.download('punkt')\n",
    "# nltk.download('rslp')\n",
    "# nltk.download('punkt_tab')\n",
    "\n",
    "# queries_dict_clean, docs_dict_clean = clean_texts(queries_dict, docs_dict)\n",
    "\n",
    "# Caso tenha os dados baixados\n",
    "with open(PATH_DATA_CLEAN, 'rb') as f:\n",
    "    data_clean = pickle.load(f)\n",
    "\n",
    "docs_dict_clean = data_clean['docs_dict']\n",
    "queries_dict_clean = data_clean['queries_dict']\n",
    "\n",
    "\n",
    "print(\"Queries limpas:\")\n",
    "print(len(queries_dict_clean))\n",
    "print(\"\\nDocs limpos:\")\n",
    "print(len(docs_dict_clean))"
   ]
  },
  {
   "cell_type": "markdown",
   "metadata": {},
   "source": [
    "Split"
   ]
  },
  {
   "cell_type": "code",
   "execution_count": null,
   "metadata": {},
   "outputs": [],
   "source": [
    "random.seed(42)\n",
    "\n",
    "# Split the queries (assuming queries is a dictionary of {query_id: query_object})\n",
    "query_ids = list(queries_dict.keys())  # List of query IDs\n",
    "\n",
    "# Shuffle query IDs to ensure a random split\n",
    "random.shuffle(query_ids)\n",
    "\n",
    "# Split into 80% for training, 20% for validation\n",
    "split_ratio = 0.8\n",
    "test_query_ids = query_ids[int(len(query_ids) * split_ratio):]\n",
    "\n",
    "test_queries_dict = {qid: queries_dict[qid] for qid in test_query_ids}\n",
    "test_queries_dict_clean = {qid: queries_dict_clean[qid] for qid in test_query_ids}\n",
    "\n",
    "print(len(queries_dict))\n",
    "print(len(queries_dict_clean))\n",
    "print(len(test_queries_dict))\n",
    "print(len(test_queries_dict_clean))"
   ]
  },
  {
   "cell_type": "markdown",
   "metadata": {},
   "source": [
    "Saving embeddings"
   ]
  },
  {
   "cell_type": "code",
   "execution_count": null,
   "metadata": {},
   "outputs": [],
   "source": [
    "save_embeddings_choose(docs_dict, queries_dict, 'bert')\n",
    "save_embeddings_choose(docs_dict, queries_dict, 'tevatron')"
   ]
  }
 ],
 "metadata": {
  "kernelspec": {
   "display_name": "Python 3",
   "language": "python",
   "name": "python3"
  },
  "language_info": {
   "codemirror_mode": {
    "name": "ipython",
    "version": 3
   },
   "file_extension": ".py",
   "mimetype": "text/x-python",
   "name": "python",
   "nbconvert_exporter": "python",
   "pygments_lexer": "ipython3",
   "version": "3.12.3"
  }
 },
 "nbformat": 4,
 "nbformat_minor": 2
}
