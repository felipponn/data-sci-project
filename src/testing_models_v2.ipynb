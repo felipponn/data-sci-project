{
 "cells": [
  {
   "cell_type": "code",
   "execution_count": null,
   "metadata": {},
   "outputs": [],
   "source": [
    "# base\n",
    "import numpy as np\n",
    "import matplotlib.pyplot as plt\n",
    "import random\n",
    "\n",
    "# database\n",
    "import pickle\n",
    "\n",
    "# models\n",
    "from models.baselines_models import random_search, tfidf_search, bm25_search\n",
    "\n",
    "from models.bert_model import bert_search\n",
    "from models.tevatron_model import tevatron_search\n",
    "from models.multi_staging_model import primary_stage, secondary_stage\n",
    "from utils.save_embeddings import save_embeddings\n",
    "\n"
   ]
  }
 ],
 "metadata": {
  "language_info": {
   "name": "python"
  }
 },
 "nbformat": 4,
 "nbformat_minor": 2
}
