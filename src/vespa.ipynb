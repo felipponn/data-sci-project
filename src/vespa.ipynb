{
 "cells": [
  {
   "cell_type": "code",
   "execution_count": 1,
   "id": "75917889",
   "metadata": {},
   "outputs": [
    {
     "name": "stderr",
     "output_type": "stream",
     "text": [
      "c:\\Users\\ramyr\\miniconda3\\Lib\\site-packages\\sentence_transformers\\cross_encoder\\CrossEncoder.py:13: TqdmWarning: IProgress not found. Please update jupyter and ipywidgets. See https://ipywidgets.readthedocs.io/en/stable/user_install.html\n",
      "  from tqdm.autonotebook import tqdm, trange\n"
     ]
    }
   ],
   "source": [
    "from vespa.package import ApplicationPackage, Schema, Document, Field, RankProfile\n",
    "from vespa.application import Vespa\n",
    "from vespa.deployment import VespaDocker\n",
    "import numpy as np\n",
    "from sentence_transformers import SentenceTransformer\n",
    "import matplotlib.pyplot as plt\n",
    "import time\n",
    "import pickle"
   ]
  },
  {
   "cell_type": "code",
   "execution_count": 2,
   "id": "8e296259",
   "metadata": {},
   "outputs": [],
   "source": [
    "# 2. Configuração do modelo de embedding (Semantic Search)\n",
    "embedding_model = SentenceTransformer(\"all-MiniLM-L6-v2\") "
   ]
  },
  {
   "cell_type": "code",
   "execution_count": 3,
   "id": "f18d1c82",
   "metadata": {},
   "outputs": [],
   "source": [
    "# 3. Definição do Schema\n",
    "document = Document(\n",
    "    fields=[\n",
    "        Field(name=\"id\", type=\"string\", indexing=[\"summary\", \"attribute\"]),\n",
    "        Field(name=\"text\", type=\"string\", indexing=[\"index\", \"summary\"]),\n",
    "        Field(name=\"embedding\", type=\"tensor<float>(d[384])\", indexing=[\"attribute\", \"summary\"], ann=\"true\", hnsw={\"distance-metric\": \"dotproduct\"})\n",
    "    ]\n",
    ")\n",
    "\n",
    "schema = Schema(\n",
    "    name=\"document\",\n",
    "    document=document,\n",
    "    rank_profiles=[\n",
    "        RankProfile(name=\"bm25\", first_phase=\"nativeRank(text)\"),\n",
    "        RankProfile(name=\"dot_product\", first_phase=\"closeness(embedding)\"),\n",
    "        RankProfile(name=\"hybrid\", first_phase=\"nativeRank(text) + closeness(embedding)\")\n",
    "    ]\n",
    ")"
   ]
  },
  {
   "cell_type": "code",
   "execution_count": 7,
   "id": "fd58338d",
   "metadata": {},
   "outputs": [
    {
     "name": "stdout",
     "output_type": "stream",
     "text": [
      "Waiting for configuration server, 0/60 seconds...\n",
      "Waiting for configuration server, 5/60 seconds...\n",
      "Waiting for configuration server, 10/60 seconds...\n",
      "Waiting for configuration server, 15/60 seconds...\n",
      "Waiting for application to come up, 0/300 seconds.\n",
      "Waiting for application to come up, 5/300 seconds.\n",
      "Waiting for application to come up, 10/300 seconds.\n",
      "Waiting for application to come up, 15/300 seconds.\n",
      "Waiting for application to come up, 20/300 seconds.\n",
      "Waiting for application to come up, 25/300 seconds.\n",
      "Waiting for application to come up, 30/300 seconds.\n",
      "Application is up!\n",
      "Finished deployment.\n"
     ]
    }
   ],
   "source": [
    "# 4. Criando o app e subindo via Docker\n",
    "app_package = ApplicationPackage(name=\"vespasearch1\", schema=None)\n",
    "vespa_docker = VespaDocker()\n",
    "app = vespa_docker.deploy(application_package=app_package)"
   ]
  },
  {
   "cell_type": "code",
   "execution_count": 8,
   "id": "fd3827f3",
   "metadata": {},
   "outputs": [],
   "source": [
    "# 5. Indexação de documentos\n",
    "def index_documents(app, docs):\n",
    "    for doc in docs:\n",
    "        doc_id = doc[\"id\"]\n",
    "        text = doc[\"text\"]\n",
    "        embedding = embedding_model.encode(text).tolist()\n",
    "        app.feed_data_point(schema=\"document\", data_id=doc_id, fields={\"id\": doc_id, \"text\": text, \"embedding\": embedding})"
   ]
  },
  {
   "cell_type": "code",
   "execution_count": 10,
   "id": "95ca7b07",
   "metadata": {},
   "outputs": [],
   "source": [
    "# 6. Funções de Busca\n",
    "def lexical_search(app, query):\n",
    "    return app.query(\n",
    "        yql=\"select * from sources * where userQuery();\",\n",
    "        query=query,\n",
    "        ranking=\"bm25\"\n",
    "    )\n",
    "\n",
    "def semantic_search(app, query):\n",
    "    query_vec = embedding_model.encode(query).tolist()\n",
    "    return app.query(\n",
    "        yql=\"select * from sources * where ([{\\\"targetNumHits\\\":10}]nearestNeighbor(embedding, query_embedding));\",\n",
    "        query_tensor={\"query_embedding\": query_vec},\n",
    "        ranking=\"dot_product\"\n",
    "    )\n",
    "\n",
    "def hybrid_search(app, query):\n",
    "    query_vec = embedding_model.encode(query).tolist()\n",
    "    return app.query(\n",
    "        yql=\"select * from sources * where userQuery() or ([{\\\"targetNumHits\\\":10}]nearestNeighbor(embedding, query_embedding));\",\n",
    "        query=query,\n",
    "        query_tensor={\"query_embedding\": query_vec},\n",
    "        ranking=\"hybrid\"\n",
    "    )"
   ]
  },
  {
   "cell_type": "code",
   "execution_count": null,
   "id": "9a048a9d",
   "metadata": {},
   "outputs": [],
   "source": [
    "PATH = 'subset_msmarco_train_0.01_9.pkl'\n",
    "PATH_DATA = '../data/' + PATH\n",
    "PATH_DATA_CLEAN = '../data_clean/' + PATH"
   ]
  },
  {
   "cell_type": "code",
   "execution_count": 14,
   "id": "278cc0bf",
   "metadata": {},
   "outputs": [
    {
     "ename": "FileNotFoundError",
     "evalue": "[Errno 2] No such file or directory: './subset_msmarco_train_0/subset_msmarco_train_0.01_9.pkl'",
     "output_type": "error",
     "traceback": [
      "\u001b[1;31m---------------------------------------------------------------------------\u001b[0m",
      "\u001b[1;31mFileNotFoundError\u001b[0m                         Traceback (most recent call last)",
      "Cell \u001b[1;32mIn[14], line 2\u001b[0m\n\u001b[0;32m      1\u001b[0m \u001b[38;5;66;03m# 7 Carregando e formatando dados do MSMARCO\u001b[39;00m\n\u001b[1;32m----> 2\u001b[0m \u001b[38;5;28;01mwith\u001b[39;00m \u001b[38;5;28;43mopen\u001b[39;49m\u001b[43m(\u001b[49m\u001b[38;5;124;43m\"\u001b[39;49m\u001b[38;5;124;43m./subset_msmarco_train_0/subset_msmarco_train_0.01_9.pkl\u001b[39;49m\u001b[38;5;124;43m\"\u001b[39;49m\u001b[43m,\u001b[49m\u001b[43m \u001b[49m\u001b[38;5;124;43m\"\u001b[39;49m\u001b[38;5;124;43mrb\u001b[39;49m\u001b[38;5;124;43m\"\u001b[39;49m\u001b[43m)\u001b[49m \u001b[38;5;28;01mas\u001b[39;00m f:\n\u001b[0;32m      3\u001b[0m     data \u001b[38;5;241m=\u001b[39m pickle\u001b[38;5;241m.\u001b[39mload(f)\n\u001b[0;32m      5\u001b[0m \u001b[38;5;66;03m# Extraindo documentos únicos dos dados\u001b[39;00m\n",
      "File \u001b[1;32mc:\\Users\\ramyr\\miniconda3\\Lib\\site-packages\\IPython\\core\\interactiveshell.py:324\u001b[0m, in \u001b[0;36m_modified_open\u001b[1;34m(file, *args, **kwargs)\u001b[0m\n\u001b[0;32m    317\u001b[0m \u001b[38;5;28;01mif\u001b[39;00m file \u001b[38;5;129;01min\u001b[39;00m {\u001b[38;5;241m0\u001b[39m, \u001b[38;5;241m1\u001b[39m, \u001b[38;5;241m2\u001b[39m}:\n\u001b[0;32m    318\u001b[0m     \u001b[38;5;28;01mraise\u001b[39;00m \u001b[38;5;167;01mValueError\u001b[39;00m(\n\u001b[0;32m    319\u001b[0m         \u001b[38;5;124mf\u001b[39m\u001b[38;5;124m\"\u001b[39m\u001b[38;5;124mIPython won\u001b[39m\u001b[38;5;124m'\u001b[39m\u001b[38;5;124mt let you open fd=\u001b[39m\u001b[38;5;132;01m{\u001b[39;00mfile\u001b[38;5;132;01m}\u001b[39;00m\u001b[38;5;124m by default \u001b[39m\u001b[38;5;124m\"\u001b[39m\n\u001b[0;32m    320\u001b[0m         \u001b[38;5;124m\"\u001b[39m\u001b[38;5;124mas it is likely to crash IPython. If you know what you are doing, \u001b[39m\u001b[38;5;124m\"\u001b[39m\n\u001b[0;32m    321\u001b[0m         \u001b[38;5;124m\"\u001b[39m\u001b[38;5;124myou can use builtins\u001b[39m\u001b[38;5;124m'\u001b[39m\u001b[38;5;124m open.\u001b[39m\u001b[38;5;124m\"\u001b[39m\n\u001b[0;32m    322\u001b[0m     )\n\u001b[1;32m--> 324\u001b[0m \u001b[38;5;28;01mreturn\u001b[39;00m \u001b[43mio_open\u001b[49m\u001b[43m(\u001b[49m\u001b[43mfile\u001b[49m\u001b[43m,\u001b[49m\u001b[43m \u001b[49m\u001b[38;5;241;43m*\u001b[39;49m\u001b[43margs\u001b[49m\u001b[43m,\u001b[49m\u001b[43m \u001b[49m\u001b[38;5;241;43m*\u001b[39;49m\u001b[38;5;241;43m*\u001b[39;49m\u001b[43mkwargs\u001b[49m\u001b[43m)\u001b[49m\n",
      "\u001b[1;31mFileNotFoundError\u001b[0m: [Errno 2] No such file or directory: './subset_msmarco_train_0/subset_msmarco_train_0.01_9.pkl'"
     ]
    }
   ],
   "source": [
    "# 7 Carregando e formatando dados do MSMARCO\n",
    "with open(\"./subset_msmarco_train_0/subset_msmarco_train_0.01_9.pkl\", \"rb\") as f:\n",
    "    data = pickle.load(f)\n",
    "\n",
    "# Extraindo documentos únicos dos dados\n",
    "unique_docs = {}\n",
    "for item in data:\n",
    "    for doc in item.get(\"relevant_docs\", []):\n",
    "        unique_docs[doc[\"id\"]] = doc[\"text\"]\n",
    "\n",
    "docs = [{\"id\": doc_id, \"text\": text} for doc_id, text in unique_docs.items()]"
   ]
  }
 ],
 "metadata": {
  "kernelspec": {
   "display_name": "base",
   "language": "python",
   "name": "python3"
  },
  "language_info": {
   "codemirror_mode": {
    "name": "ipython",
    "version": 3
   },
   "file_extension": ".py",
   "mimetype": "text/x-python",
   "name": "python",
   "nbconvert_exporter": "python",
   "pygments_lexer": "ipython3",
   "version": "3.12.3"
  }
 },
 "nbformat": 4,
 "nbformat_minor": 5
}
