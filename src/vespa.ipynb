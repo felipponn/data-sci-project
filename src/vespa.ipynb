{
 "cells": [
  {
   "cell_type": "code",
   "execution_count": 19,
   "id": "75917889",
   "metadata": {},
   "outputs": [],
   "source": [
    "from vespa.package import ApplicationPackage, Schema, Document, Field, RankProfile\n",
    "from vespa.application import Vespa\n",
    "from vespa.deployment import VespaDocker\n",
    "import numpy as np\n",
    "from sentence_transformers import SentenceTransformer\n",
    "import matplotlib.pyplot as plt\n",
    "import time\n",
    "import pickle\n",
    "import os"
   ]
  },
  {
   "cell_type": "code",
   "execution_count": 2,
   "id": "8e296259",
   "metadata": {},
   "outputs": [],
   "source": [
    "# 2. Configuração do modelo de embedding (Semantic Search)\n",
    "embedding_model = SentenceTransformer(\"all-MiniLM-L6-v2\") "
   ]
  },
  {
   "cell_type": "code",
   "execution_count": 3,
   "id": "f18d1c82",
   "metadata": {},
   "outputs": [],
   "source": [
    "# 3. Definição do Schema\n",
    "document = Document(\n",
    "    fields=[\n",
    "        Field(name=\"id\", type=\"string\", indexing=[\"summary\", \"attribute\"]),\n",
    "        Field(name=\"text\", type=\"string\", indexing=[\"index\", \"summary\"]),\n",
    "        Field(name=\"embedding\", type=\"tensor<float>(d[384])\", indexing=[\"attribute\", \"summary\"], ann=\"true\", hnsw={\"distance-metric\": \"dotproduct\"})\n",
    "    ]\n",
    ")\n",
    "\n",
    "schema = Schema(\n",
    "    name=\"document\",\n",
    "    document=document,\n",
    "    rank_profiles=[\n",
    "        RankProfile(name=\"bm25\", first_phase=\"nativeRank(text)\"),\n",
    "        RankProfile(name=\"dot_product\", first_phase=\"closeness(embedding)\"),\n",
    "        RankProfile(name=\"hybrid\", first_phase=\"nativeRank(text) + closeness(embedding)\")\n",
    "    ]\n",
    ")"
   ]
  },
  {
   "cell_type": "code",
   "execution_count": 28,
   "id": "fd58338d",
   "metadata": {},
   "outputs": [
    {
     "name": "stdout",
     "output_type": "stream",
     "text": [
      "Waiting for configuration server, 0/60 seconds...\n",
      "Waiting for configuration server, 5/60 seconds...\n",
      "Waiting for configuration server, 10/60 seconds...\n",
      "Waiting for configuration server, 15/60 seconds...\n",
      "Waiting for application to come up, 0/300 seconds.\n",
      "Waiting for application to come up, 5/300 seconds.\n",
      "Waiting for application to come up, 10/300 seconds.\n",
      "Waiting for application to come up, 15/300 seconds.\n",
      "Waiting for application to come up, 20/300 seconds.\n",
      "Waiting for application to come up, 25/300 seconds.\n",
      "Waiting for application to come up, 30/300 seconds.\n",
      "Waiting for application to come up, 35/300 seconds.\n",
      "Waiting for application to come up, 40/300 seconds.\n",
      "Application is up!\n",
      "Finished deployment.\n"
     ]
    }
   ],
   "source": [
    "# 4. Criando o app e subindo via Docker\n",
    "app_package = ApplicationPackage(name=\"vespasearch1\", schema=None)\n",
    "vespa_docker = VespaDocker()\n",
    "app = vespa_docker.deploy(application_package=app_package)"
   ]
  },
  {
   "cell_type": "code",
   "execution_count": 25,
   "id": "fd3827f3",
   "metadata": {},
   "outputs": [],
   "source": [
    "# 5. Indexação de documentos\n",
    "def index_documents(app, docs):\n",
    "    for doc in docs:\n",
    "        doc_id = doc[\"id\"]\n",
    "        text = doc[\"text\"]\n",
    "        embedding = embedding_model.encode(text).tolist()\n",
    "        app.feed_data_point(\n",
    "            schema=\"document\",\n",
    "            data_id=doc_id,\n",
    "            fields={\"id\": doc_id, \"text\": text, \"embedding\": embedding}\n",
    "        )"
   ]
  },
  {
   "cell_type": "code",
   "execution_count": 6,
   "id": "95ca7b07",
   "metadata": {},
   "outputs": [],
   "source": [
    "# 6. Funções de Busca\n",
    "def lexical_search(app, query):\n",
    "    return app.query(\n",
    "        yql=\"select * from sources * where userQuery();\",\n",
    "        query=query,\n",
    "        ranking=\"bm25\"\n",
    "    )\n",
    "\n",
    "def semantic_search(app, query):\n",
    "    query_vec = embedding_model.encode(query).tolist()\n",
    "    return app.query(\n",
    "        yql=\"select * from sources * where ([{\\\"targetNumHits\\\":10}]nearestNeighbor(embedding, query_embedding));\",\n",
    "        query_tensor={\"query_embedding\": query_vec},\n",
    "        ranking=\"dot_product\"\n",
    "    )\n",
    "\n",
    "def hybrid_search(app, query):\n",
    "    query_vec = embedding_model.encode(query).tolist()\n",
    "    return app.query(\n",
    "        yql=\"select * from sources * where userQuery() or ([{\\\"targetNumHits\\\":10}]nearestNeighbor(embedding, query_embedding));\",\n",
    "        query=query,\n",
    "        query_tensor={\"query_embedding\": query_vec},\n",
    "        ranking=\"hybrid\"\n",
    "    )"
   ]
  },
  {
   "cell_type": "code",
   "execution_count": 7,
   "id": "9a048a9d",
   "metadata": {},
   "outputs": [],
   "source": [
    "PATH = 'subset_msmarco_train_0.01_9.pkl'\n",
    "PATH_DATA = '../data/' + PATH\n",
    "PATH_DATA_CLEAN = '../data_clean/' + PATH"
   ]
  },
  {
   "cell_type": "code",
   "execution_count": 8,
   "id": "278cc0bf",
   "metadata": {},
   "outputs": [],
   "source": [
    "# 7 Carregando e formatando dados do MSMARCO\n",
    "with open(\"../subset_msmarco_train_0/subset_msmarco_train_0.01_9.pkl\", \"rb\") as f:\n",
    "    data = pickle.load(f)\n",
    "\n",
    "# Extraindo lista de documentos\n",
    "docs_raw = data[\"docs\"]\n",
    "docs = [{\"id\": doc_id, \"text\": doc_obj.text} for doc_id, doc_obj in docs_raw.items()]"
   ]
  },
  {
   "cell_type": "code",
   "execution_count": 23,
   "id": "e0a98c83",
   "metadata": {},
   "outputs": [
    {
     "name": "stdout",
     "output_type": "stream",
     "text": [
      "200\n",
      "{'application': {'vespa': {'version': '8.520.18'}, 'meta': {'name': 'default', 'user': 'unknown', 'path': '', 'generation': 2, 'timestamp': 1747368002275, 'date': 'Fri May 16 04:00:02 UTC 2025', 'checksum': '7230ec67ce2cefcbb4c41b6b20ad51d7'}, 'user': {'version': ''}}, 'abstractComponents': [{'id': 'com.yahoo.search.searchers.InputCheckingSearcher@vespasearch1_content', 'class': 'com.yahoo.search.searchers.InputCheckingSearcher', 'bundle': 'container-search-and-docproc:8.520.18'}, {'id': 'com.yahoo.container.logging.FileConnectionLog', 'class': 'com.yahoo.container.logging.FileConnectionLog', 'bundle': 'container-disc:8.520.18'}, {'id': 'com.yahoo.container.jdisc.state.StateMonitor', 'class': 'com.yahoo.container.jdisc.state.StateMonitor', 'bundle': 'container-disc:8.520.18'}, {'id': 'com.yahoo.search.searchers.OpportunisticWeakAndSearcher@vespa', 'class': 'com.yahoo.search.searchers.OpportunisticWeakAndSearcher', 'bundle': 'container-search-and-docproc:8.520.18'}, {'id': 'com.yahoo.container.jdisc.metric.MicrometerMetricReporter', 'class': 'com.yahoo.container.jdisc.metric.MicrometerMetricReporter', 'bundle': 'container-disc:8.520.18'}, {'id': 'com.yahoo.search.querytransform.DefaultPositionSearcher@vespasearch1_content', 'class': 'com.yahoo.search.querytransform.DefaultPositionSearcher', 'bundle': 'container-search-and-docproc:8.520.18'}, {'id': 'com.yahoo.container.jdisc.messagebus.NetworkMultiplexerHolder', 'class': 'com.yahoo.container.jdisc.messagebus.NetworkMultiplexerHolder', 'bundle': 'container-disc:8.520.18'}, {'id': 'com.yahoo.prelude.querytransform.StemmingSearcher@vespasearch1_content', 'class': 'com.yahoo.prelude.querytransform.StemmingSearcher', 'bundle': 'container-search-and-docproc:8.520.18'}, {'id': 'com.yahoo.search.yql.FieldFiller@vespasearch1_content', 'class': 'com.yahoo.search.yql.FieldFiller', 'bundle': 'container-search-and-docproc:8.520.18'}, {'id': 'com.yahoo.prelude.semantics.SemanticSearcher@vespa', 'class': 'com.yahoo.prelude.semantics.SemanticSearcher', 'bundle': 'container-search-and-docproc:8.520.18'}, {'id': 'com.yahoo.search.grouping.GroupingValidator@vespasearch1_content', 'class': 'com.yahoo.search.grouping.GroupingValidator', 'bundle': 'container-search-and-docproc:8.520.18'}, {'id': 'com.yahoo.prelude.searcher.ValidateSortingSearcher@vespasearch1_content', 'class': 'com.yahoo.prelude.searcher.ValidateSortingSearcher', 'bundle': 'container-search-and-docproc:8.520.18'}, {'id': 'com.yahoo.jdisc.http.server.jetty.JettyHttpServerContext@DefaultHttpServer', 'class': 'com.yahoo.jdisc.http.server.jetty.JettyHttpServerContext', 'bundle': 'container-disc:8.520.18'}, {'id': 'com.yahoo.docprocs.indexing.IndexingProcessor@indexing', 'class': 'com.yahoo.docprocs.indexing.IndexingProcessor', 'bundle': 'docprocs:8.520.18'}, {'id': 'com.yahoo.prelude.searcher.FieldCollapsingSearcher@vespa', 'class': 'com.yahoo.prelude.searcher.FieldCollapsingSearcher', 'bundle': 'container-search-and-docproc:8.520.18'}, {'id': 'com.yahoo.search.querytransform.VespaLowercasingSearcher@vespasearch1_content', 'class': 'com.yahoo.search.querytransform.VespaLowercasingSearcher', 'bundle': 'container-search-and-docproc:8.520.18'}, {'id': 'com.yahoo.prelude.searcher.PosSearcher@vespa', 'class': 'com.yahoo.prelude.searcher.PosSearcher', 'bundle': 'container-search-and-docproc:8.520.18'}, {'id': 'com.yahoo.search.grouping.vespa.GroupingExecutor@vespasearch1_content', 'class': 'com.yahoo.search.grouping.vespa.GroupingExecutor', 'bundle': 'container-search-and-docproc:8.520.18'}, {'id': 'com.yahoo.search.querytransform.RangeQueryOptimizer@vespasearch1_content', 'class': 'com.yahoo.search.querytransform.RangeQueryOptimizer', 'bundle': 'container-search-and-docproc:8.520.18'}, {'id': 'com.yahoo.prelude.querytransform.PhrasingSearcher@vespa', 'class': 'com.yahoo.prelude.querytransform.PhrasingSearcher', 'bundle': 'container-search-and-docproc:8.520.18'}, {'id': 'com.yahoo.prelude.querytransform.RecallSearcher@vespasearch1_content', 'class': 'com.yahoo.prelude.querytransform.RecallSearcher', 'bundle': 'container-search-and-docproc:8.520.18'}, {'id': 'com.yahoo.search.searchers.QueryValidator@vespasearch1_content', 'class': 'com.yahoo.search.searchers.QueryValidator', 'bundle': 'container-search-and-docproc:8.520.18'}, {'id': 'com.yahoo.search.searchers.ValidateFuzzySearcher@vespasearch1_content', 'class': 'com.yahoo.search.searchers.ValidateFuzzySearcher', 'bundle': 'container-search-and-docproc:8.520.18'}, {'id': 'default-ssl-provider@SearchServer', 'class': 'com.yahoo.jdisc.http.ssl.impl.DefaultSslContextFactoryProvider', 'bundle': 'container-disc:8.520.18'}, {'id': 'com.yahoo.search.searchers.ContainerLatencySearcher@vespasearch1_content', 'class': 'com.yahoo.search.searchers.ContainerLatencySearcher', 'bundle': 'container-search-and-docproc:8.520.18'}, {'id': 'com.yahoo.prelude.searcher.ValidatePredicateSearcher@vespasearch1_content', 'class': 'com.yahoo.prelude.searcher.ValidatePredicateSearcher', 'bundle': 'container-search-and-docproc:8.520.18'}, {'id': 'com.yahoo.search.querytransform.SortingDegrader@vespasearch1_content', 'class': 'com.yahoo.search.querytransform.SortingDegrader', 'bundle': 'container-search-and-docproc:8.520.18'}, {'id': 'threadpool@feedapi-handler', 'class': 'com.yahoo.container.handler.threadpool.ContainerThreadpoolImpl', 'bundle': 'container-disc:8.520.18'}, {'id': 'com.yahoo.search.significance.SignificanceSearcher@vespasearch1_content', 'class': 'com.yahoo.search.significance.SignificanceSearcher', 'bundle': 'container-search-and-docproc:8.520.18'}, {'id': 'com.yahoo.search.searchchain.ExecutionFactory', 'class': 'com.yahoo.search.searchchain.ExecutionFactory', 'bundle': 'container-search-and-docproc:8.520.18'}, {'id': 'threadpool@search-handler', 'class': 'com.yahoo.container.handler.threadpool.ContainerThreadpoolImpl', 'bundle': 'container-disc:8.520.18'}, {'id': 'com.yahoo.prelude.querytransform.LiteralBoostSearcher@vespasearch1_content', 'class': 'com.yahoo.prelude.querytransform.LiteralBoostSearcher', 'bundle': 'container-search-and-docproc:8.520.18'}, {'id': 'com.yahoo.prelude.querytransform.NormalizingSearcher@vespasearch1_content', 'class': 'com.yahoo.prelude.querytransform.NormalizingSearcher', 'bundle': 'container-search-and-docproc:8.520.18'}, {'id': 'federation@native', 'class': 'com.yahoo.search.federation.FederationSearcher', 'bundle': 'container-search-and-docproc:8.520.18'}, {'id': 'com.yahoo.container.jdisc.metric.MetricUpdater', 'class': 'com.yahoo.container.jdisc.metric.MetricUpdater', 'bundle': 'container-disc:8.520.18'}, {'id': 'com.yahoo.search.searchers.ValidateMatchPhaseSearcher@vespasearch1_content', 'class': 'com.yahoo.search.searchers.ValidateMatchPhaseSearcher', 'bundle': 'container-search-and-docproc:8.520.18'}, {'id': 'com.yahoo.jdisc.http.server.jetty.Janitor', 'class': 'com.yahoo.jdisc.http.server.jetty.Janitor', 'bundle': 'container-disc:8.520.18'}, {'id': 'com.yahoo.prelude.searcher.BlendingSearcher@vespa', 'class': 'com.yahoo.prelude.searcher.BlendingSearcher', 'bundle': 'container-search-and-docproc:8.520.18'}, {'id': 'com.yahoo.search.yql.MinimalQueryInserter@vespa', 'class': 'com.yahoo.search.yql.MinimalQueryInserter', 'bundle': 'container-search-and-docproc:8.520.18'}, {'id': 'com.yahoo.prelude.statistics.StatisticsSearcher@native', 'class': 'com.yahoo.prelude.statistics.StatisticsSearcher', 'bundle': 'container-search-and-docproc:8.520.18'}, {'id': 'com.yahoo.search.searchers.ValidateNearestNeighborSearcher@vespasearch1_content', 'class': 'com.yahoo.search.searchers.ValidateNearestNeighborSearcher', 'bundle': 'container-search-and-docproc:8.520.18'}, {'id': 'com.yahoo.container.handler.ClustersStatus', 'class': 'com.yahoo.container.handler.ClustersStatus', 'bundle': 'container-disc:8.520.18'}, {'id': 'com.yahoo.search.yql.FieldFilter@vespa', 'class': 'com.yahoo.search.yql.FieldFilter', 'bundle': 'container-search-and-docproc:8.520.18'}, {'id': 'com.yahoo.prelude.searcher.JuniperSearcher@vespa', 'class': 'com.yahoo.prelude.searcher.JuniperSearcher', 'bundle': 'container-search-and-docproc:8.520.18'}, {'id': 'com.yahoo.search.grouping.GroupingQueryParser@vespa', 'class': 'com.yahoo.search.grouping.GroupingQueryParser', 'bundle': 'container-search-and-docproc:8.520.18'}, {'id': 'com.yahoo.container.jdisc.messagebus.SessionCache', 'class': 'com.yahoo.container.jdisc.messagebus.SessionCache', 'bundle': 'container-disc:8.520.18'}, {'id': 'com.yahoo.search.querytransform.WeakAndReplacementSearcher@vespa', 'class': 'com.yahoo.search.querytransform.WeakAndReplacementSearcher', 'bundle': 'container-search-and-docproc:8.520.18'}, {'id': 'com.yahoo.container.logging.JSONAccessLog', 'class': 'com.yahoo.container.logging.JSONAccessLog', 'bundle': 'container-disc:8.520.18'}, {'id': 'com.yahoo.search.querytransform.NGramSearcher@vespasearch1_content', 'class': 'com.yahoo.search.querytransform.NGramSearcher', 'bundle': 'container-search-and-docproc:8.520.18'}, {'id': 'dispatcher.vespasearch1_content', 'class': 'com.yahoo.search.dispatch.ReconfigurableDispatcher', 'bundle': 'container-search-and-docproc:8.520.18'}, {'id': 'threadpool@default-handler-common', 'class': 'com.yahoo.container.handler.threadpool.ContainerThreadpoolImpl', 'bundle': 'container-disc:8.520.18'}, {'id': 'com.yahoo.prelude.cluster.ClusterSearcher@vespasearch1_content', 'class': 'com.yahoo.prelude.cluster.ClusterSearcher', 'bundle': 'container-search-and-docproc:8.520.18'}, {'id': 'com.yahoo.prelude.querytransform.CJKSearcher@vespasearch1_content', 'class': 'com.yahoo.prelude.querytransform.CJKSearcher', 'bundle': 'container-search-and-docproc:8.520.18'}, {'id': 'com.yahoo.search.querytransform.BooleanSearcher@vespasearch1_content', 'class': 'com.yahoo.search.querytransform.BooleanSearcher', 'bundle': 'container-search-and-docproc:8.520.18'}, {'id': 'ai.vespa.modelintegration.evaluator.EmbeddedOnnxRuntime', 'class': 'ai.vespa.modelintegration.evaluator.EmbeddedOnnxRuntime', 'bundle': 'model-integration:8.520.18'}, {'id': 'com.yahoo.search.querytransform.WandSearcher@vespasearch1_content', 'class': 'com.yahoo.search.querytransform.WandSearcher', 'bundle': 'container-search-and-docproc:8.520.18'}], 'handlers': [{'id': 'com.yahoo.container.usability.BindingsOverviewHandler', 'class': 'com.yahoo.container.usability.BindingsOverviewHandler', 'bundle': 'container-disc:8.520.18', 'serverBindings': ['http://*/'], 'clientBindings': []}, {'id': 'com.yahoo.search.handler.SearchHandler', 'class': 'com.yahoo.search.handler.SearchHandler', 'bundle': 'container-search-and-docproc:8.520.18', 'serverBindings': ['http://*/search/*', 'http://*/search'], 'clientBindings': []}, {'id': 'com.yahoo.document.restapi.resource.DocumentV1ApiHandler', 'class': 'com.yahoo.document.restapi.resource.DocumentV1ApiHandler', 'bundle': 'vespaclient-container-plugin:8.520.18', 'serverBindings': ['http://*/document/v1/*', 'http://*/document/v1/*/'], 'clientBindings': []}, {'id': 'internalNoThrottledSource@MbusClient', 'class': 'com.yahoo.messagebus.jdisc.MbusClient', 'bundle': 'container-disc:8.520.18', 'serverBindings': [], 'clientBindings': ['mbus://*/internalNoThrottledSource']}, {'id': 'com.yahoo.document.restapi.resource.RestApi', 'class': 'com.yahoo.document.restapi.resource.RestApi', 'bundle': 'vespaclient-container-plugin:8.520.18', 'serverBindings': [], 'clientBindings': []}, {'id': 'com.yahoo.vespa.http.server.FeedHandler', 'class': 'com.yahoo.vespa.http.server.FeedHandler', 'bundle': 'vespaclient-container-plugin:8.520.18', 'serverBindings': ['http://*/reserved-for-internal-use/feedapi', 'http://*/reserved-for-internal-use/feedapi/'], 'clientBindings': []}, {'id': 'com.yahoo.container.handler.observability.ApplicationStatusHandler', 'class': 'com.yahoo.container.handler.observability.ApplicationStatusHandler', 'bundle': 'container-disc:8.520.18', 'serverBindings': ['http://*/ApplicationStatus'], 'clientBindings': []}, {'id': 'chain.indexing@MbusClient', 'class': 'com.yahoo.messagebus.jdisc.MbusClient', 'bundle': 'container-disc:8.520.18', 'serverBindings': [], 'clientBindings': ['mbus://*/chain.indexing']}, {'id': 'source@MbusClient', 'class': 'com.yahoo.messagebus.jdisc.MbusClient', 'bundle': 'container-disc:8.520.18', 'serverBindings': [], 'clientBindings': ['mbus://*/source']}, {'id': 'com.yahoo.container.handler.metrics.PrometheusV1Handler', 'class': 'com.yahoo.container.handler.metrics.PrometheusV1Handler', 'bundle': 'container-disc:8.520.18', 'serverBindings': ['http://*/prometheus/v1', 'http://*/prometheus/v1/*'], 'clientBindings': []}, {'id': 'com.yahoo.container.handler.metrics.MetricsV2Handler', 'class': 'com.yahoo.container.handler.metrics.MetricsV2Handler', 'bundle': 'container-disc:8.520.18', 'serverBindings': ['http://*/metrics/v2', 'http://*/metrics/v2/*'], 'clientBindings': []}, {'id': 'com.yahoo.docproc.jdisc.DocumentProcessingHandler', 'class': 'com.yahoo.docproc.jdisc.DocumentProcessingHandler', 'bundle': 'container-search-and-docproc:8.520.18', 'serverBindings': ['mbus://*/chain.indexing'], 'clientBindings': []}, {'id': 'com.yahoo.container.jdisc.state.StateHandler', 'class': 'com.yahoo.container.jdisc.state.StateHandler', 'bundle': 'container-disc:8.520.18', 'serverBindings': ['http://*/state/v1', 'http://*/state/v1/*'], 'clientBindings': []}, {'id': 'com.yahoo.container.handler.VipStatusHandler', 'class': 'com.yahoo.container.handler.VipStatusHandler', 'bundle': 'container-disc:8.520.18', 'serverBindings': ['http://*/status.html'], 'clientBindings': []}], 'clients': [{'id': 'internalNoThrottledSource@MbusClient', 'class': 'com.yahoo.messagebus.jdisc.MbusClient', 'bundle': 'container-disc:8.520.18', 'serverBindings': [], 'clientBindings': ['mbus://*/internalNoThrottledSource']}, {'id': 'chain.indexing@MbusClient', 'class': 'com.yahoo.messagebus.jdisc.MbusClient', 'bundle': 'container-disc:8.520.18', 'serverBindings': [], 'clientBindings': ['mbus://*/chain.indexing']}, {'id': 'source@MbusClient', 'class': 'com.yahoo.messagebus.jdisc.MbusClient', 'bundle': 'container-disc:8.520.18', 'serverBindings': [], 'clientBindings': ['mbus://*/source']}], 'servers': [{'id': 'DefaultHttpServer', 'class': 'com.yahoo.jdisc.http.server.jetty.JettyHttpServer', 'bundle': 'container-disc:8.520.18'}, {'id': 'chain.indexing@MbusServer', 'class': 'com.yahoo.messagebus.jdisc.MbusServer', 'bundle': 'container-disc:8.520.18'}], 'httpRequestFilters': [], 'httpResponseFilters': [], 'processingChains': {}, 'docprocChains': {'indexing': [{'id': 'com.yahoo.docprocs.indexing.IndexingProcessor@indexing', 'class': 'com.yahoo.docprocs.indexing.IndexingProcessor', 'bundle': 'docprocs:8.520.18'}]}, 'searchChains': {'vespasearch1_content': [{'id': 'com.yahoo.search.querytransform.NGramSearcher@vespasearch1_content', 'class': 'com.yahoo.search.querytransform.NGramSearcher', 'bundle': 'container-search-and-docproc:8.520.18'}, {'id': 'com.yahoo.search.querytransform.DefaultPositionSearcher@vespasearch1_content', 'class': 'com.yahoo.search.querytransform.DefaultPositionSearcher', 'bundle': 'container-search-and-docproc:8.520.18'}, {'id': 'com.yahoo.prelude.querytransform.CJKSearcher@vespasearch1_content', 'class': 'com.yahoo.prelude.querytransform.CJKSearcher', 'bundle': 'container-search-and-docproc:8.520.18'}, {'id': 'com.yahoo.prelude.querytransform.LiteralBoostSearcher@vespasearch1_content', 'class': 'com.yahoo.prelude.querytransform.LiteralBoostSearcher', 'bundle': 'container-search-and-docproc:8.520.18'}, {'id': 'com.yahoo.search.querytransform.RangeQueryOptimizer@vespasearch1_content', 'class': 'com.yahoo.search.querytransform.RangeQueryOptimizer', 'bundle': 'container-search-and-docproc:8.520.18'}, {'id': 'com.yahoo.search.querytransform.SortingDegrader@vespasearch1_content', 'class': 'com.yahoo.search.querytransform.SortingDegrader', 'bundle': 'container-search-and-docproc:8.520.18'}, {'id': 'com.yahoo.search.searchers.QueryValidator@vespasearch1_content', 'class': 'com.yahoo.search.searchers.QueryValidator', 'bundle': 'container-search-and-docproc:8.520.18'}, {'id': 'com.yahoo.search.grouping.GroupingValidator@vespasearch1_content', 'class': 'com.yahoo.search.grouping.GroupingValidator', 'bundle': 'container-search-and-docproc:8.520.18'}, {'id': 'com.yahoo.search.querytransform.WandSearcher@vespasearch1_content', 'class': 'com.yahoo.search.querytransform.WandSearcher', 'bundle': 'container-search-and-docproc:8.520.18'}, {'id': 'com.yahoo.prelude.querytransform.RecallSearcher@vespasearch1_content', 'class': 'com.yahoo.prelude.querytransform.RecallSearcher', 'bundle': 'container-search-and-docproc:8.520.18'}, {'id': 'com.yahoo.search.searchers.ValidateNearestNeighborSearcher@vespasearch1_content', 'class': 'com.yahoo.search.searchers.ValidateNearestNeighborSearcher', 'bundle': 'container-search-and-docproc:8.520.18'}, {'id': 'com.yahoo.search.searchers.ValidateMatchPhaseSearcher@vespasearch1_content', 'class': 'com.yahoo.search.searchers.ValidateMatchPhaseSearcher', 'bundle': 'container-search-and-docproc:8.520.18'}, {'id': 'com.yahoo.search.searchers.ValidateFuzzySearcher@vespasearch1_content', 'class': 'com.yahoo.search.searchers.ValidateFuzzySearcher', 'bundle': 'container-search-and-docproc:8.520.18'}, {'id': 'com.yahoo.search.yql.FieldFiller@vespasearch1_content', 'class': 'com.yahoo.search.yql.FieldFiller', 'bundle': 'container-search-and-docproc:8.520.18'}, {'id': 'com.yahoo.search.searchers.InputCheckingSearcher@vespasearch1_content', 'class': 'com.yahoo.search.searchers.InputCheckingSearcher', 'bundle': 'container-search-and-docproc:8.520.18'}, {'id': 'com.yahoo.search.significance.SignificanceSearcher@vespasearch1_content', 'class': 'com.yahoo.search.significance.SignificanceSearcher', 'bundle': 'container-search-and-docproc:8.520.18'}, {'id': 'com.yahoo.prelude.querytransform.StemmingSearcher@vespasearch1_content', 'class': 'com.yahoo.prelude.querytransform.StemmingSearcher', 'bundle': 'container-search-and-docproc:8.520.18'}, {'id': 'com.yahoo.prelude.querytransform.NormalizingSearcher@vespasearch1_content', 'class': 'com.yahoo.prelude.querytransform.NormalizingSearcher', 'bundle': 'container-search-and-docproc:8.520.18'}, {'id': 'com.yahoo.search.querytransform.VespaLowercasingSearcher@vespasearch1_content', 'class': 'com.yahoo.search.querytransform.VespaLowercasingSearcher', 'bundle': 'container-search-and-docproc:8.520.18'}, {'id': 'com.yahoo.prelude.searcher.ValidateSortingSearcher@vespasearch1_content', 'class': 'com.yahoo.prelude.searcher.ValidateSortingSearcher', 'bundle': 'container-search-and-docproc:8.520.18'}, {'id': 'com.yahoo.search.querytransform.BooleanSearcher@vespasearch1_content', 'class': 'com.yahoo.search.querytransform.BooleanSearcher', 'bundle': 'container-search-and-docproc:8.520.18'}, {'id': 'com.yahoo.search.grouping.vespa.GroupingExecutor@vespasearch1_content', 'class': 'com.yahoo.search.grouping.vespa.GroupingExecutor', 'bundle': 'container-search-and-docproc:8.520.18'}, {'id': 'com.yahoo.prelude.searcher.ValidatePredicateSearcher@vespasearch1_content', 'class': 'com.yahoo.prelude.searcher.ValidatePredicateSearcher', 'bundle': 'container-search-and-docproc:8.520.18'}, {'id': 'com.yahoo.search.searchers.ContainerLatencySearcher@vespasearch1_content', 'class': 'com.yahoo.search.searchers.ContainerLatencySearcher', 'bundle': 'container-search-and-docproc:8.520.18'}, {'id': 'com.yahoo.prelude.cluster.ClusterSearcher@vespasearch1_content', 'class': 'com.yahoo.prelude.cluster.ClusterSearcher', 'bundle': 'container-search-and-docproc:8.520.18'}], 'vespaPhases': [], 'native': [{'id': 'com.yahoo.prelude.statistics.StatisticsSearcher@native', 'class': 'com.yahoo.prelude.statistics.StatisticsSearcher', 'bundle': 'container-search-and-docproc:8.520.18'}, {'id': 'federation@native', 'class': 'com.yahoo.search.federation.FederationSearcher', 'bundle': 'container-search-and-docproc:8.520.18'}], 'vespa': [{'id': 'com.yahoo.prelude.statistics.StatisticsSearcher@native', 'class': 'com.yahoo.prelude.statistics.StatisticsSearcher', 'bundle': 'container-search-and-docproc:8.520.18'}, {'id': 'com.yahoo.prelude.querytransform.PhrasingSearcher@vespa', 'class': 'com.yahoo.prelude.querytransform.PhrasingSearcher', 'bundle': 'container-search-and-docproc:8.520.18'}, {'id': 'com.yahoo.prelude.searcher.FieldCollapsingSearcher@vespa', 'class': 'com.yahoo.prelude.searcher.FieldCollapsingSearcher', 'bundle': 'container-search-and-docproc:8.520.18'}, {'id': 'com.yahoo.search.yql.MinimalQueryInserter@vespa', 'class': 'com.yahoo.search.yql.MinimalQueryInserter', 'bundle': 'container-search-and-docproc:8.520.18'}, {'id': 'com.yahoo.search.yql.FieldFilter@vespa', 'class': 'com.yahoo.search.yql.FieldFilter', 'bundle': 'container-search-and-docproc:8.520.18'}, {'id': 'com.yahoo.prelude.searcher.JuniperSearcher@vespa', 'class': 'com.yahoo.prelude.searcher.JuniperSearcher', 'bundle': 'container-search-and-docproc:8.520.18'}, {'id': 'com.yahoo.prelude.searcher.PosSearcher@vespa', 'class': 'com.yahoo.prelude.searcher.PosSearcher', 'bundle': 'container-search-and-docproc:8.520.18'}, {'id': 'com.yahoo.prelude.semantics.SemanticSearcher@vespa', 'class': 'com.yahoo.prelude.semantics.SemanticSearcher', 'bundle': 'container-search-and-docproc:8.520.18'}, {'id': 'com.yahoo.search.grouping.GroupingQueryParser@vespa', 'class': 'com.yahoo.search.grouping.GroupingQueryParser', 'bundle': 'container-search-and-docproc:8.520.18'}, {'id': 'com.yahoo.prelude.searcher.BlendingSearcher@vespa', 'class': 'com.yahoo.prelude.searcher.BlendingSearcher', 'bundle': 'container-search-and-docproc:8.520.18'}, {'id': 'com.yahoo.search.querytransform.WeakAndReplacementSearcher@vespa', 'class': 'com.yahoo.search.querytransform.WeakAndReplacementSearcher', 'bundle': 'container-search-and-docproc:8.520.18'}, {'id': 'com.yahoo.search.searchers.OpportunisticWeakAndSearcher@vespa', 'class': 'com.yahoo.search.searchers.OpportunisticWeakAndSearcher', 'bundle': 'container-search-and-docproc:8.520.18'}, {'id': 'federation@native', 'class': 'com.yahoo.search.federation.FederationSearcher', 'bundle': 'container-search-and-docproc:8.520.18'}]}}\n"
     ]
    }
   ],
   "source": [
    "response = app.get_application_status()\n",
    "print(response.status_code)\n",
    "print(response.json())\n"
   ]
  },
  {
   "cell_type": "code",
   "execution_count": 18,
   "id": "e6c85004",
   "metadata": {},
   "outputs": [
    {
     "name": "stdout",
     "output_type": "stream",
     "text": [
      "400 {\"pathId\":\"/document/v1/document/document/docid/\",\"message\":\"There is no document type 'document' in cluster 'vespasearch1_content', only 'vespasearch1'\"}\n"
     ]
    }
   ],
   "source": [
    "import requests\n",
    "\n",
    "r = requests.get(\"http://localhost:8080/document/v1/document/document/docid/\")\n",
    "print(r.status_code, r.text)"
   ]
  },
  {
   "cell_type": "code",
   "execution_count": 27,
   "id": "7aae522d",
   "metadata": {},
   "outputs": [
    {
     "name": "stdout",
     "output_type": "stream",
     "text": [
      "Local esperado: c:\\Users\\ramyr\\OneDrive\\Área de Trabalho\\FGV\\5periodo\\ProjectsInDataScience\\data-sci-project\\src\\schemas\\document.sd\n",
      "Existe? True\n",
      "Conteúdo:\n",
      "\n",
      "schema document {\n",
      "    document document {\n",
      "        field id type string {\n",
      "            indexing: summary | attribute\n",
      "        }\n",
      "\n",
      "        field text type string {\n",
      "            indexing: index | summary\n",
      "        }\n",
      "\n",
      "        field embedding type tensor<float>(d[384]) {\n",
      "            indexing: attribute | summary\n",
      "            attribute {\n",
      "                distance-metric: dotproduct\n",
      "            }\n",
      "        }\n",
      "    }\n",
      "\n",
      "    rank-profile bm25 inherits default {\n",
      "        first-phase {\n",
      "            expression: nativeRank(text)\n",
      "        }\n",
      "    }\n",
      "\n",
      "    rank-profile dot_product inherits default {\n",
      "        first-phase {\n",
      "            expression: closeness(embedding)\n",
      "        }\n",
      "    }\n",
      "\n",
      "    rank-profile hybrid inherits default {\n",
      "        first-phase {\n",
      "            expression: nativeRank(text) + closeness(embedding)\n",
      "        }\n",
      "    }\n",
      "}\n"
     ]
    }
   ],
   "source": [
    "import os\n",
    "print(\"Local esperado:\", os.path.abspath(\"schemas/document.sd\"))\n",
    "print(\"Existe?\", os.path.exists(\"schemas/document.sd\"))\n",
    "\n",
    "with open(\"schemas/document.sd\", \"r\") as f:\n",
    "    print(\"Conteúdo:\\n\")\n",
    "    print(f.read())"
   ]
  },
  {
   "cell_type": "code",
   "execution_count": 29,
   "id": "791c18bd",
   "metadata": {},
   "outputs": [
    {
     "ename": "VespaError",
     "evalue": "No field 'id' in the structure of type 'document', which has the fields: []",
     "output_type": "error",
     "traceback": [
      "\u001b[1;31m---------------------------------------------------------------------------\u001b[0m",
      "\u001b[1;31mHTTPError\u001b[0m                                 Traceback (most recent call last)",
      "File \u001b[1;32mc:\\Users\\ramyr\\miniconda3\\Lib\\site-packages\\vespa\\application.py:62\u001b[0m, in \u001b[0;36mraise_for_status\u001b[1;34m(response, raise_on_not_found)\u001b[0m\n\u001b[0;32m     61\u001b[0m \u001b[38;5;28;01mtry\u001b[39;00m:\n\u001b[1;32m---> 62\u001b[0m     \u001b[43mresponse\u001b[49m\u001b[38;5;241;43m.\u001b[39;49m\u001b[43mraise_for_status\u001b[49m\u001b[43m(\u001b[49m\u001b[43m)\u001b[49m\n\u001b[0;32m     63\u001b[0m \u001b[38;5;28;01mexcept\u001b[39;00m HTTPError \u001b[38;5;28;01mas\u001b[39;00m http_error:\n",
      "File \u001b[1;32mc:\\Users\\ramyr\\miniconda3\\Lib\\site-packages\\requests\\models.py:1024\u001b[0m, in \u001b[0;36mResponse.raise_for_status\u001b[1;34m(self)\u001b[0m\n\u001b[0;32m   1023\u001b[0m \u001b[38;5;28;01mif\u001b[39;00m http_error_msg:\n\u001b[1;32m-> 1024\u001b[0m     \u001b[38;5;28;01mraise\u001b[39;00m HTTPError(http_error_msg, response\u001b[38;5;241m=\u001b[39m\u001b[38;5;28mself\u001b[39m)\n",
      "\u001b[1;31mHTTPError\u001b[0m: 400 Client Error: Bad Request for url: http://localhost:8080/document/v1/document/document/docid/msmarco_passage_31_15605486",
      "\nThe above exception was the direct cause of the following exception:\n",
      "\u001b[1;31mVespaError\u001b[0m                                Traceback (most recent call last)",
      "Cell \u001b[1;32mIn[29], line 1\u001b[0m\n\u001b[1;32m----> 1\u001b[0m \u001b[43mindex_documents\u001b[49m\u001b[43m(\u001b[49m\u001b[43mapp\u001b[49m\u001b[43m,\u001b[49m\u001b[43m \u001b[49m\u001b[43mdocs\u001b[49m\u001b[43m)\u001b[49m\n",
      "Cell \u001b[1;32mIn[25], line 7\u001b[0m, in \u001b[0;36mindex_documents\u001b[1;34m(app, docs)\u001b[0m\n\u001b[0;32m      5\u001b[0m text \u001b[38;5;241m=\u001b[39m doc[\u001b[38;5;124m\"\u001b[39m\u001b[38;5;124mtext\u001b[39m\u001b[38;5;124m\"\u001b[39m]\n\u001b[0;32m      6\u001b[0m embedding \u001b[38;5;241m=\u001b[39m embedding_model\u001b[38;5;241m.\u001b[39mencode(text)\u001b[38;5;241m.\u001b[39mtolist()\n\u001b[1;32m----> 7\u001b[0m \u001b[43mapp\u001b[49m\u001b[38;5;241;43m.\u001b[39;49m\u001b[43mfeed_data_point\u001b[49m\u001b[43m(\u001b[49m\n\u001b[0;32m      8\u001b[0m \u001b[43m    \u001b[49m\u001b[43mschema\u001b[49m\u001b[38;5;241;43m=\u001b[39;49m\u001b[38;5;124;43m\"\u001b[39;49m\u001b[38;5;124;43mdocument\u001b[39;49m\u001b[38;5;124;43m\"\u001b[39;49m\u001b[43m,\u001b[49m\n\u001b[0;32m      9\u001b[0m \u001b[43m    \u001b[49m\u001b[43mdata_id\u001b[49m\u001b[38;5;241;43m=\u001b[39;49m\u001b[43mdoc_id\u001b[49m\u001b[43m,\u001b[49m\n\u001b[0;32m     10\u001b[0m \u001b[43m    \u001b[49m\u001b[43mfields\u001b[49m\u001b[38;5;241;43m=\u001b[39;49m\u001b[43m{\u001b[49m\u001b[38;5;124;43m\"\u001b[39;49m\u001b[38;5;124;43mid\u001b[39;49m\u001b[38;5;124;43m\"\u001b[39;49m\u001b[43m:\u001b[49m\u001b[43m \u001b[49m\u001b[43mdoc_id\u001b[49m\u001b[43m,\u001b[49m\u001b[43m \u001b[49m\u001b[38;5;124;43m\"\u001b[39;49m\u001b[38;5;124;43mtext\u001b[39;49m\u001b[38;5;124;43m\"\u001b[39;49m\u001b[43m:\u001b[49m\u001b[43m \u001b[49m\u001b[43mtext\u001b[49m\u001b[43m,\u001b[49m\u001b[43m \u001b[49m\u001b[38;5;124;43m\"\u001b[39;49m\u001b[38;5;124;43membedding\u001b[39;49m\u001b[38;5;124;43m\"\u001b[39;49m\u001b[43m:\u001b[49m\u001b[43m \u001b[49m\u001b[43membedding\u001b[49m\u001b[43m}\u001b[49m\n\u001b[0;32m     11\u001b[0m \u001b[43m\u001b[49m\u001b[43m)\u001b[49m\n",
      "File \u001b[1;32mc:\\Users\\ramyr\\miniconda3\\Lib\\site-packages\\vespa\\application.py:362\u001b[0m, in \u001b[0;36mVespa.feed_data_point\u001b[1;34m(self, schema, data_id, fields, namespace, groupname, compress, **kwargs)\u001b[0m\n\u001b[0;32m    357\u001b[0m \u001b[38;5;66;03m# Use low low connection settings to avoid too much overhead for a\u001b[39;00m\n\u001b[0;32m    358\u001b[0m \u001b[38;5;66;03m# single data point\u001b[39;00m\n\u001b[0;32m    359\u001b[0m \u001b[38;5;28;01mwith\u001b[39;00m VespaSync(\n\u001b[0;32m    360\u001b[0m     app\u001b[38;5;241m=\u001b[39m\u001b[38;5;28mself\u001b[39m, pool_connections\u001b[38;5;241m=\u001b[39m\u001b[38;5;241m1\u001b[39m, pool_maxsize\u001b[38;5;241m=\u001b[39m\u001b[38;5;241m1\u001b[39m, compress\u001b[38;5;241m=\u001b[39mcompress\n\u001b[0;32m    361\u001b[0m ) \u001b[38;5;28;01mas\u001b[39;00m sync_app:\n\u001b[1;32m--> 362\u001b[0m     \u001b[38;5;28;01mreturn\u001b[39;00m \u001b[43msync_app\u001b[49m\u001b[38;5;241;43m.\u001b[39;49m\u001b[43mfeed_data_point\u001b[49m\u001b[43m(\u001b[49m\n\u001b[0;32m    363\u001b[0m \u001b[43m        \u001b[49m\u001b[43mschema\u001b[49m\u001b[38;5;241;43m=\u001b[39;49m\u001b[43mschema\u001b[49m\u001b[43m,\u001b[49m\n\u001b[0;32m    364\u001b[0m \u001b[43m        \u001b[49m\u001b[43mdata_id\u001b[49m\u001b[38;5;241;43m=\u001b[39;49m\u001b[43mdata_id\u001b[49m\u001b[43m,\u001b[49m\n\u001b[0;32m    365\u001b[0m \u001b[43m        \u001b[49m\u001b[43mfields\u001b[49m\u001b[38;5;241;43m=\u001b[39;49m\u001b[43mfields\u001b[49m\u001b[43m,\u001b[49m\n\u001b[0;32m    366\u001b[0m \u001b[43m        \u001b[49m\u001b[43mnamespace\u001b[49m\u001b[38;5;241;43m=\u001b[39;49m\u001b[43mnamespace\u001b[49m\u001b[43m,\u001b[49m\n\u001b[0;32m    367\u001b[0m \u001b[43m        \u001b[49m\u001b[43mgroupname\u001b[49m\u001b[38;5;241;43m=\u001b[39;49m\u001b[43mgroupname\u001b[49m\u001b[43m,\u001b[49m\n\u001b[0;32m    368\u001b[0m \u001b[43m        \u001b[49m\u001b[38;5;241;43m*\u001b[39;49m\u001b[38;5;241;43m*\u001b[39;49m\u001b[43mkwargs\u001b[49m\u001b[43m,\u001b[49m\n\u001b[0;32m    369\u001b[0m \u001b[43m    \u001b[49m\u001b[43m)\u001b[49m\n",
      "File \u001b[1;32mc:\\Users\\ramyr\\miniconda3\\Lib\\site-packages\\vespa\\application.py:1285\u001b[0m, in \u001b[0;36mVespaSync.feed_data_point\u001b[1;34m(self, schema, data_id, fields, namespace, groupname, **kwargs)\u001b[0m\n\u001b[0;32m   1283\u001b[0m vespa_format \u001b[38;5;241m=\u001b[39m {\u001b[38;5;124m\"\u001b[39m\u001b[38;5;124mfields\u001b[39m\u001b[38;5;124m\"\u001b[39m: fields}\n\u001b[0;32m   1284\u001b[0m response \u001b[38;5;241m=\u001b[39m \u001b[38;5;28mself\u001b[39m\u001b[38;5;241m.\u001b[39mhttp_session\u001b[38;5;241m.\u001b[39mpost(end_point, json\u001b[38;5;241m=\u001b[39mvespa_format, params\u001b[38;5;241m=\u001b[39mkwargs)\n\u001b[1;32m-> 1285\u001b[0m \u001b[43mraise_for_status\u001b[49m\u001b[43m(\u001b[49m\u001b[43mresponse\u001b[49m\u001b[43m)\u001b[49m\n\u001b[0;32m   1286\u001b[0m \u001b[38;5;28;01mreturn\u001b[39;00m VespaResponse(\n\u001b[0;32m   1287\u001b[0m     json\u001b[38;5;241m=\u001b[39mresponse\u001b[38;5;241m.\u001b[39mjson(),\n\u001b[0;32m   1288\u001b[0m     status_code\u001b[38;5;241m=\u001b[39mresponse\u001b[38;5;241m.\u001b[39mstatus_code,\n\u001b[0;32m   1289\u001b[0m     url\u001b[38;5;241m=\u001b[39m\u001b[38;5;28mstr\u001b[39m(response\u001b[38;5;241m.\u001b[39murl),\n\u001b[0;32m   1290\u001b[0m     operation_type\u001b[38;5;241m=\u001b[39m\u001b[38;5;124m\"\u001b[39m\u001b[38;5;124mfeed\u001b[39m\u001b[38;5;124m\"\u001b[39m,\n\u001b[0;32m   1291\u001b[0m )\n",
      "File \u001b[1;32mc:\\Users\\ramyr\\miniconda3\\Lib\\site-packages\\vespa\\application.py:75\u001b[0m, in \u001b[0;36mraise_for_status\u001b[1;34m(response, raise_on_not_found)\u001b[0m\n\u001b[0;32m     73\u001b[0m     \u001b[38;5;28;01mraise\u001b[39;00m VespaError(errors) \u001b[38;5;28;01mfrom\u001b[39;00m \u001b[38;5;21;01mhttp_error\u001b[39;00m\n\u001b[0;32m     74\u001b[0m \u001b[38;5;28;01mif\u001b[39;00m error_message:\n\u001b[1;32m---> 75\u001b[0m     \u001b[38;5;28;01mraise\u001b[39;00m VespaError(error_message) \u001b[38;5;28;01mfrom\u001b[39;00m \u001b[38;5;21;01mhttp_error\u001b[39;00m\n\u001b[0;32m     76\u001b[0m \u001b[38;5;28;01mraise\u001b[39;00m HTTPError(http_error) \u001b[38;5;28;01mfrom\u001b[39;00m \u001b[38;5;21;01mhttp_error\u001b[39;00m\n",
      "\u001b[1;31mVespaError\u001b[0m: No field 'id' in the structure of type 'document', which has the fields: []"
     ]
    }
   ],
   "source": [
    "index_documents(app, docs)"
   ]
  }
 ],
 "metadata": {
  "kernelspec": {
   "display_name": "base",
   "language": "python",
   "name": "python3"
  },
  "language_info": {
   "codemirror_mode": {
    "name": "ipython",
    "version": 3
   },
   "file_extension": ".py",
   "mimetype": "text/x-python",
   "name": "python",
   "nbconvert_exporter": "python",
   "pygments_lexer": "ipython3",
   "version": "3.12.3"
  }
 },
 "nbformat": 4,
 "nbformat_minor": 5
}
